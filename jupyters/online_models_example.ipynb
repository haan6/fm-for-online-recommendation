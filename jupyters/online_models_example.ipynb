{
 "cells": [
  {
   "cell_type": "markdown",
   "metadata": {},
   "source": [
    "## Online Factorization Machine \n",
    "Online factorization models take single data as an input, make a prediction, and train with the data."
   ]
  },
  {
   "cell_type": "markdown",
   "metadata": {},
   "source": [
    "### 1. Setup\n",
    "The from models imports the package for use. We have also imported a few other packages for plotting."
   ]
  },
  {
   "cell_type": "code",
   "execution_count": 1,
   "metadata": {},
   "outputs": [],
   "source": [
    "import sys\n",
    "sys.path.append('./../')\n",
    "\n",
    "from utils import data_preprocess, plot\n",
    "import os\n",
    "import pickle\n",
    "import numpy as np\n",
    "import torch\n",
    "\n",
    "from time import time\n",
    "\n",
    "from models.models_online.FM_FTRL import FM_FTRL\n",
    "from models.models_online.SFTRL_CCFM import SFTRL_CCFM\n",
    "from models.models_online.SFTRL_Vanila import SFTRL_Vanila\n",
    "from models.models_online.RRF_Online import RRF_Online\n",
    "from utils.data_manager  import *\n",
    "from utils.metric_manager import *\n",
    "\n",
    "Tensor_type = torch.DoubleTensor\n",
    "\n"
   ]
  },
  {
   "cell_type": "code",
   "execution_count": 9,
   "metadata": {},
   "outputs": [
    {
     "data": {
      "image/png": "[encoded data removed]",
      "text/plain": [
       "<Figure size 360x72 with 1 Axes>"
      ]
     },
     "metadata": {},
     "output_type": "display_data"
    }
   ],
   "source": [
    "import seaborn as sns\n",
    "import os\n",
    "sns.set()\n",
    "sns.set_style('white')\n",
    "import matplotlib\n",
    "plt.rcParams[\"axes.grid\"] = True\n",
    "plt.rc('font', family='serif')\n",
    "\n",
    "current_palette = sns.color_palette(sns.hls_palette(5, l=.6, s=1.0))\n",
    "sns.palplot(current_palette)\n",
    "current_palette = np.asarray(current_palette)"
   ]
  },
  {
   "cell_type": "markdown",
   "metadata": {},
   "source": [
    "### 2. Create a dataset depending on task\n",
    "We prepare movielens100-k for regression and cod-ran dataset for classification"
   ]
  },
  {
   "cell_type": "code",
   "execution_count": 11,
   "metadata": {},
   "outputs": [],
   "source": [
    "task = 'cls'"
   ]
  },
  {
   "cell_type": "code",
   "execution_count": 12,
   "metadata": {},
   "outputs": [],
   "source": [
    "if task == 'reg':\n",
    "    nbUsers = 943\n",
    "    nbMovies = 1682\n",
    "    nbFeatures = nbUsers + nbMovies\n",
    "    nbRatingsTrain = 90570\n",
    "    nbRatingsTest = 9430\n",
    "    data_dir = os.getcwd() + '/../dataset/ml-100k/'\n",
    "\n",
    "    #filename1, filename2 = 'ub.base', 'ub.test'\n",
    "    filename1, filename2 = 'ua.base', 'ua.test'\n",
    "    _, x_train, y_train, rate_train, timestamp_train = load_dataset_movielens(data_dir + filename1,nbRatingsTrain,nbFeatures,nbUsers)\n",
    "    x_train_s, rate_train_s, _ = sort_dataset_movielens(x_train, rate_train, timestamp_train)\n",
    "    want_permute = True\n",
    "    if want_permute :\n",
    "        idx = np.random.permutation(x_train_s.shape[0])\n",
    "        x_train_s = x_train_s[idx]\n",
    "        rate_train_s = rate_train_s[idx]\n",
    "    else:\n",
    "        pass\n",
    "    x_train_s = x_train_s.todense()\n",
    "\n",
    "    \n",
    "    \n",
    "elif task == 'cls':\n",
    "    data_dir = './../dataset/cod-rna2/'\n",
    "    filename = \"cod-rna2.scale\"\n",
    "    X, y = load_svmlight_file(data_dir + filename, n_features=8)\n",
    "    X = X.toarray()\n",
    "\n",
    "    want_permute = False\n",
    "    if want_permute :\n",
    "        idx = np.random.permutation(X.shape[0])\n",
    "        x_train_s = np.asarray(X[idx])\n",
    "        rate_train_s = np.asarray(y[idx])\n",
    "    else:\n",
    "        x_train_s = np.asarray(X)\n",
    "        rate_train_s = np.asarray(y)\n",
    "\n",
    "else:\n",
    "    raise ValueError"
   ]
  },
  {
   "cell_type": "markdown",
   "metadata": {},
   "source": [
    "### 3. Create factorization machines and conduct online task\n",
    "There are four models in this notebook; 'FTRL','SFTRL_C','SFTRL_V','Online_RFF'"
   ]
  },
  {
   "cell_type": "code",
   "execution_count": 13,
   "metadata": {},
   "outputs": [],
   "source": [
    "model_option_list = ['FTRL','SFTRL_C','SFTRL_V','Online_RFF']"
   ]
  },
  {
   "cell_type": "code",
   "execution_count": 18,
   "metadata": {},
   "outputs": [],
   "source": [
    "model_option = 'SFTRL_C'\n",
    "#model_option = 'Online_RFF'\n",
    "\n",
    "m = 40\n",
    "lr_FM = 0.005"
   ]
  },
  {
   "cell_type": "code",
   "execution_count": 19,
   "metadata": {
    "scrolled": false
   },
   "outputs": [
    {
     "name": "stdout",
     "output_type": "stream",
     "text": [
      "========================================\n",
      "SFTRL_CCFM_0.005_40_start\n",
      " 0 th : pred 1.000000 , real -1.000000 \n",
      " 1000 th : pred -1.000000 , real -1.000000 \n",
      " 2000 th : pred -1.000000 , real 1.000000 \n",
      " 3000 th : pred -1.000000 , real -1.000000 \n",
      " 4000 th : pred -1.000000 , real -1.000000 \n",
      " 5000 th : pred -1.000000 , real -1.000000 \n",
      " 6000 th : pred -1.000000 , real -1.000000 \n",
      " 7000 th : pred -1.000000 , real -1.000000 \n",
      " 8000 th : pred -1.000000 , real -1.000000 \n",
      " 9000 th : pred -1.000000 , real -1.000000 \n",
      " 10000 th : pred -1.000000 , real -1.000000 \n",
      " 11000 th : pred -1.000000 , real -1.000000 \n",
      " 12000 th : pred -1.000000 , real -1.000000 \n",
      " 13000 th : pred -1.000000 , real -1.000000 \n",
      " 14000 th : pred -1.000000 , real -1.000000 \n",
      " 15000 th : pred -1.000000 , real -1.000000 \n",
      " 16000 th : pred -1.000000 , real -1.000000 \n",
      " 17000 th : pred -1.000000 , real -1.000000 \n",
      " 18000 th : pred -1.000000 , real -1.000000 \n",
      " 19000 th : pred -1.000000 , real -1.000000 \n",
      " 20000 th : pred -1.000000 , real -1.000000 \n",
      " 21000 th : pred -1.000000 , real -1.000000 \n",
      " 22000 th : pred 1.000000 , real 1.000000 \n",
      " 23000 th : pred 1.000000 , real 1.000000 \n",
      " 24000 th : pred 1.000000 , real 1.000000 \n",
      " 25000 th : pred 1.000000 , real 1.000000 \n",
      " 26000 th : pred 1.000000 , real 1.000000 \n",
      " 27000 th : pred 1.000000 , real 1.000000 \n",
      " 28000 th : pred 1.000000 , real 1.000000 \n",
      " 29000 th : pred 1.000000 , real 1.000000 \n",
      " 30000 th : pred 1.000000 , real 1.000000 \n",
      " 31000 th : pred 1.000000 , real -1.000000 \n",
      " 32000 th : pred 1.000000 , real -1.000000 \n",
      " 33000 th : pred -1.000000 , real -1.000000 \n",
      " 34000 th : pred -1.000000 , real -1.000000 \n",
      " 35000 th : pred -1.000000 , real -1.000000 \n",
      " 36000 th : pred -1.000000 , real -1.000000 \n",
      " 37000 th : pred -1.000000 , real -1.000000 \n",
      " 38000 th : pred -1.000000 , real -1.000000 \n",
      " 39000 th : pred -1.000000 , real -1.000000 \n",
      " 40000 th : pred -1.000000 , real -1.000000 \n",
      " 41000 th : pred -1.000000 , real -1.000000 \n",
      " 42000 th : pred -1.000000 , real -1.000000 \n",
      " 43000 th : pred -1.000000 , real -1.000000 \n",
      " 44000 th : pred -1.000000 , real -1.000000 \n",
      " 45000 th : pred -1.000000 , real -1.000000 \n",
      " 46000 th : pred -1.000000 , real -1.000000 \n",
      " 47000 th : pred -1.000000 , real -1.000000 \n",
      " 48000 th : pred -1.000000 , real -1.000000 \n",
      " 49000 th : pred -1.000000 , real -1.000000 \n",
      " 50000 th : pred -1.000000 , real 1.000000 \n",
      " 51000 th : pred 1.000000 , real 1.000000 \n",
      " 52000 th : pred 1.000000 , real 1.000000 \n",
      " 53000 th : pred 1.000000 , real 1.000000 \n",
      " 54000 th : pred 1.000000 , real 1.000000 \n",
      " 55000 th : pred 1.000000 , real 1.000000 \n",
      " 56000 th : pred 1.000000 , real 1.000000 \n",
      " 57000 th : pred 1.000000 , real 1.000000 \n",
      " 58000 th : pred 1.000000 , real 1.000000 \n",
      " 59000 th : pred 1.000000 , real 1.000000 \n",
      "learning time : 10.158967 \n"
     ]
    }
   ],
   "source": [
    "assert(model_option in model_option_list)\n",
    "if model_option is 'FTRL':\n",
    "    Model_FM_FTRL = FM_FTRL(Tensor_type(x_train_s),Tensor_type(rate_train_s) , task,lr_FM, m )\n",
    "    pred_y, label_y , time = Model_FM_FTRL.online_learning()\n",
    "\n",
    "elif model_option is 'SFTRL_C':\n",
    "    Model_SFTRL_C = SFTRL_CCFM(Tensor_type(x_train_s),Tensor_type(rate_train_s) , task,lr_FM,m )\n",
    "    pred_y, label_y , time = Model_SFTRL_C.online_learning()\n",
    "\n",
    "elif model_option is 'SFTRL_V':\n",
    "    Model_SFTRL_V = SFTRL_Vanila(Tensor_type(x_train_s),Tensor_type(rate_train_s) , task,lr_FM,m )\n",
    "    pred_y, label_y , time = Model_SFTRL_V.online_learning()\n",
    "\n",
    "elif model_option in 'Online_RFF':\n",
    "    inputs_matrix, outputs = Tensor_type(x_train_s), Tensor_type(rate_train_s)\n",
    "    Online_RRF = RRF_Online(inputs_matrix,outputs,task)\n",
    "    pred_y, label_y , time = Online_RRF.online_learning()\n",
    "\n",
    "    #print(type(x_train_s))\n",
    "    "
   ]
  },
  {
   "cell_type": "markdown",
   "metadata": {},
   "source": [
    "### 4. Cacluate Metric\n",
    "We prepare the each metric for regression (average root mean squre) and classification (average accuracy )"
   ]
  },
  {
   "cell_type": "code",
   "execution_count": 20,
   "metadata": {},
   "outputs": [],
   "source": [
    "if task == 'reg':\n",
    "    metric = regression_metric(pred_y,label_y)    \n",
    "elif task == 'cls':\n",
    "    _,metric = classfication_metric(pred_y,label_y)"
   ]
  },
  {
   "cell_type": "markdown",
   "metadata": {},
   "source": [
    "### 5. Results figures\n",
    "We shows the resutls of prediction and accuracy for regression and classification"
   ]
  },
  {
   "cell_type": "code",
   "execution_count": 21,
   "metadata": {},
   "outputs": [
    {
     "data": {
      "image/png": "[encoded data removed]",
      "text/plain": [
       "<Figure size 1152x396 with 2 Axes>"
      ]
     },
     "metadata": {},
     "output_type": "display_data"
    }
   ],
   "source": [
    "fontsiz = 15\n",
    "\n",
    "fig = plt.figure(figsize=(8*2,5.5))\n",
    "fig.add_subplot(1,2,1)\n",
    "plt.plot(pred_y,'b.', label = 'pred',alpha = 0.8)\n",
    "plt.plot(label_y,'r.' , label = 'label',alpha = 0.8)\n",
    "plt.xlabel('iteration' , fontsize = fontsiz)\n",
    "plt.ylabel('y' , fontsize = fontsiz)\n",
    "plt.title('pred vs real' ,fontsize = fontsiz)\n",
    "plt.tick_params(axis='both', labelsize=fontsiz)\n",
    "#plt.legend(loc='upper center', bbox_to_anchor=(0, 1. + 0.075 ,1-0.05,0.1), ncol = 2 , fontsize = fontsiz)\n",
    "plt.legend( fontsize = fontsiz)\n",
    "\n",
    "fig.add_subplot(1,2,2)\n",
    "plt.plot(metric,'b', label = 'metric',alpha = 0.8 ,linewidth = 2.0)\n",
    "plt.xlabel('iteration' , fontsize = fontsiz)\n",
    "plt.ylabel('accumulated metric' , fontsize = fontsiz)\n",
    "plt.title('accumulated metric over iteration' ,fontsize = fontsiz)\n",
    "plt.tick_params(axis='both', labelsize=fontsiz)\n",
    "#plt.legend(ncol = 2 , fontsize = 12)\n",
    "#plt.legend(loc='upper center', bbox_to_anchor=(0, 1. + 0.075 ,1-0.05,0.1), ncol = 2 , fontsize = fontsiz)\n",
    "plt.legend( fontsize = fontsiz)\n",
    "fig.tight_layout()    \n",
    "\n"
   ]
  },
  {
   "cell_type": "code",
   "execution_count": null,
   "metadata": {},
   "outputs": [],
   "source": []
  },
  {
   "cell_type": "code",
   "execution_count": null,
   "metadata": {},
   "outputs": [],
   "source": []
  }
 ],
 "metadata": {
  "kernelspec": {
   "display_name": "Python 3",
   "language": "python",
   "name": "python3"
  },
  "language_info": {
   "codemirror_mode": {
    "name": "ipython",
    "version": 3
   },
   "file_extension": ".py",
   "mimetype": "text/x-python",
   "name": "python",
   "nbconvert_exporter": "python",
   "pygments_lexer": "ipython3",
   "version": "3.6.8"
  }
 },
 "nbformat": 4,
 "nbformat_minor": 2
}
