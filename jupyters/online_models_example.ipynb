{
 "cells": [
  {
   "cell_type": "markdown",
   "metadata": {},
   "source": [
    "## Online Factorization Machine\n",
    "Online factorization models take single data as an input, make a prediction, and train with the data. This notebook demonstrates fitting online models with an adam optimizer and those with hedge backpropagation (HBP) to criteo data."
   ]
  },
  {
   "cell_type": "code",
   "execution_count": 1,
   "metadata": {},
   "outputs": [],
   "source": [
    "import sys\n",
    "sys.path.append('./../')\n",
    "\n",
    "from utils import data_preprocess, plot\n",
    "import os\n",
    "import pickle\n",
    "import numpy as np\n",
    "import torch\n",
    "\n",
    "from time import time\n",
    "\n",
    "from models.models_online.FM_FTRL import FM_FTRL\n",
    "from models.models_online.SFTRL_CCFM import SFTRL_CCFM\n",
    "from models.models_online.SFTRL_Vanila import SFTRL_Vanila\n",
    "from models.models_online.RRF_Online import RRF_Online\n",
    "\n",
    "from utils.data_manager  import *\n",
    "\n",
    "Tensor_type = torch.DoubleTensor\n"
   ]
  },
  {
   "cell_type": "code",
   "execution_count": 10,
   "metadata": {},
   "outputs": [],
   "source": [
    "model_option_list = ['FTRL','SFTRL_C','SFTRL_V','Online_RFF']\n",
    "m = 40\n",
    "lr_FM = 0.005\n",
    "task = 'cls'"
   ]
  },
  {
   "cell_type": "code",
   "execution_count": 22,
   "metadata": {},
   "outputs": [],
   "source": [
    "if task == 'reg':\n",
    "    nbUsers = 943\n",
    "    nbMovies = 1682\n",
    "    nbFeatures = nbUsers + nbMovies\n",
    "    nbRatingsTrain = 90570\n",
    "    nbRatingsTest = 9430\n",
    "    data_dir = os.getcwd() + '/../dataset/ml-100k/'\n",
    "\n",
    "    #filename1, filename2 = 'ub.base', 'ub.test'\n",
    "    filename1, filename2 = 'ua.base', 'ua.test'\n",
    "    _, x_train, y_train, rate_train, timestamp_train = load_dataset_movielens(data_dir + filename1,\n",
    "                                                                              nbRatingsTrain,\n",
    "                                                                              nbFeatures,\n",
    "                                                                              nbUsers)\n",
    "    # sort dataset in time\n",
    "    #x_train_s, rate_train_s, _ = sort_dataset(x_train, rate_train, timestamp_train)\n",
    "    x_train_s, rate_train_s, _ = sort_dataset_movielens(x_train, rate_train, timestamp_train)\n",
    "\n",
    "    \n",
    "    want_permute = True\n",
    "    if want_permute :\n",
    "        idx = np.random.permutation(x_train_s.shape[0])\n",
    "        x_train_s = x_train_s[idx]\n",
    "        rate_train_s = rate_train_s[idx]\n",
    "    else:\n",
    "        pass\n",
    "    \n",
    "    x_train_s = x_train_s.todense()\n",
    "\n",
    "elif task == 'cls':\n",
    "    data_dir = './../dataset/cod-rna2/'\n",
    "    filename = \"cod-rna2.scale\"\n",
    "    X, y = load_svmlight_file(data_dir + filename, n_features=8)\n",
    "    X = X.toarray()\n",
    "\n",
    "    want_permute = False\n",
    "    if want_permute :\n",
    "        idx = np.random.permutation(X.shape[0])\n",
    "        x_train_s = np.asarray(X[idx])\n",
    "        rate_train_s = np.asarray(y[idx])\n",
    "    else:\n",
    "        x_train_s = np.asarray(X)\n",
    "        rate_train_s = np.asarray(y)\n",
    "\n",
    "else:\n",
    "    raise ValueError"
   ]
  },
  {
   "cell_type": "code",
   "execution_count": 24,
   "metadata": {},
   "outputs": [
    {
     "data": {
      "text/plain": [
       "array([[ 0.179872 ,  0.848485 , -0.810701 , ..., -0.810701 ,  0.260379 ,\n",
       "         0.0858314],\n",
       "       [ 0.222698 ,  0.939394 , -0.868804 , ..., -0.868804 ,  0.41109  ,\n",
       "         0.0472483],\n",
       "       [ 0.30621  ,  0.69697  , -0.780102 , ..., -0.780102 ,  0.44365  ,\n",
       "        -0.0794641],\n",
       "       ...,\n",
       "       [ 0.446467 , -0.727273 , -0.436509 , ..., -0.506946 , -0.257884 ,\n",
       "         0.198159 ],\n",
       "       [ 0.478587 , -0.727273 , -0.436509 , ..., -0.366072 , -0.173699 ,\n",
       "         0.103567 ],\n",
       "       [ 0.480728 , -0.727273 , -0.520666 , ..., -0.506946 , -0.0895143,\n",
       "         0.103567 ]])"
      ]
     },
     "execution_count": 24,
     "metadata": {},
     "output_type": "execute_result"
    }
   ],
   "source": [
    "x_train_s"
   ]
  },
  {
   "cell_type": "code",
   "execution_count": 28,
   "metadata": {},
   "outputs": [],
   "source": [
    "model_option = 'SFTRL_C'"
   ]
  },
  {
   "cell_type": "code",
   "execution_count": 29,
   "metadata": {
    "scrolled": false
   },
   "outputs": [
    {
     "name": "stdout",
     "output_type": "stream",
     "text": [
      "========================================\n",
      "SFTRL_CCFM_0.005_40_start\n",
      " 0 th : pred 1.000000 , real -1.000000 \n",
      " 1000 th : pred -1.000000 , real -1.000000 \n",
      " 2000 th : pred -1.000000 , real 1.000000 \n",
      " 3000 th : pred -1.000000 , real -1.000000 \n",
      " 4000 th : pred -1.000000 , real -1.000000 \n",
      " 5000 th : pred -1.000000 , real -1.000000 \n",
      " 6000 th : pred -1.000000 , real -1.000000 \n",
      " 7000 th : pred -1.000000 , real -1.000000 \n",
      " 8000 th : pred -1.000000 , real -1.000000 \n",
      " 9000 th : pred -1.000000 , real -1.000000 \n",
      " 10000 th : pred -1.000000 , real -1.000000 \n",
      " 11000 th : pred -1.000000 , real -1.000000 \n",
      " 12000 th : pred -1.000000 , real -1.000000 \n",
      " 13000 th : pred -1.000000 , real -1.000000 \n",
      " 14000 th : pred -1.000000 , real -1.000000 \n",
      " 15000 th : pred -1.000000 , real -1.000000 \n",
      " 16000 th : pred -1.000000 , real -1.000000 \n",
      " 17000 th : pred -1.000000 , real -1.000000 \n",
      " 18000 th : pred -1.000000 , real -1.000000 \n",
      " 19000 th : pred -1.000000 , real -1.000000 \n",
      " 20000 th : pred -1.000000 , real -1.000000 \n",
      " 21000 th : pred -1.000000 , real -1.000000 \n",
      " 22000 th : pred 1.000000 , real 1.000000 \n",
      " 23000 th : pred 1.000000 , real 1.000000 \n",
      " 24000 th : pred 1.000000 , real 1.000000 \n",
      " 25000 th : pred 1.000000 , real 1.000000 \n",
      " 26000 th : pred 1.000000 , real 1.000000 \n",
      " 27000 th : pred 1.000000 , real 1.000000 \n",
      " 28000 th : pred 1.000000 , real 1.000000 \n",
      " 29000 th : pred 1.000000 , real 1.000000 \n",
      " 30000 th : pred 1.000000 , real 1.000000 \n",
      " 31000 th : pred 1.000000 , real -1.000000 \n",
      " 32000 th : pred 1.000000 , real -1.000000 \n",
      " 33000 th : pred -1.000000 , real -1.000000 \n",
      " 34000 th : pred -1.000000 , real -1.000000 \n",
      " 35000 th : pred -1.000000 , real -1.000000 \n",
      " 36000 th : pred -1.000000 , real -1.000000 \n",
      " 37000 th : pred -1.000000 , real -1.000000 \n",
      " 38000 th : pred -1.000000 , real -1.000000 \n",
      " 39000 th : pred -1.000000 , real -1.000000 \n",
      " 40000 th : pred -1.000000 , real -1.000000 \n",
      " 41000 th : pred -1.000000 , real -1.000000 \n",
      " 42000 th : pred -1.000000 , real -1.000000 \n",
      " 43000 th : pred -1.000000 , real -1.000000 \n",
      " 44000 th : pred -1.000000 , real -1.000000 \n",
      " 45000 th : pred -1.000000 , real -1.000000 \n",
      " 46000 th : pred -1.000000 , real -1.000000 \n",
      " 47000 th : pred -1.000000 , real -1.000000 \n",
      " 48000 th : pred -1.000000 , real -1.000000 \n",
      " 49000 th : pred -1.000000 , real -1.000000 \n",
      " 50000 th : pred -1.000000 , real 1.000000 \n",
      " 51000 th : pred 1.000000 , real 1.000000 \n",
      " 52000 th : pred 1.000000 , real 1.000000 \n",
      " 53000 th : pred 1.000000 , real 1.000000 \n",
      " 54000 th : pred 1.000000 , real 1.000000 \n",
      " 55000 th : pred 1.000000 , real 1.000000 \n",
      " 56000 th : pred 1.000000 , real 1.000000 \n",
      " 57000 th : pred 1.000000 , real 1.000000 \n",
      " 58000 th : pred 1.000000 , real 1.000000 \n",
      " 59000 th : pred 1.000000 , real 1.000000 \n",
      "learning time : 9.887154 \n"
     ]
    }
   ],
   "source": [
    "assert(model_option in model_option_list)\n",
    "if model_option is 'FTRL':\n",
    "    Model_FM_FTRL = FM_FTRL(Tensor_type(x_train_s),Tensor_type(rate_train_s) , task,lr_FM, m )\n",
    "    pred_F, _ , time = Model_FM_FTRL.online_learning()\n",
    "\n",
    "elif model_option is 'SFTRL_C':\n",
    "    Model_SFTRL_C = SFTRL_CCFM(Tensor_type(x_train_s),Tensor_type(rate_train_s) , task,lr_FM,m )\n",
    "    pred_F, _ , time = Model_SFTRL_C.online_learning()\n",
    "\n",
    "elif model_option is 'SFTRL_V':\n",
    "    Model_SFTRL_V = SFTRL_Vanila(Tensor_type(x_train_s),Tensor_type(rate_train_s) , task,lr_FM,m )\n",
    "    pred_F, _ , time = Model_SFTRL_V.online_learning()\n",
    "\n",
    "elif model_option in 'Online_RFF':\n",
    "    inputs_matrix, outputs = Tensor_type(x_train_s), Tensor_type(rate_train_s)\n",
    "    Online_RRF = RRF_Online(inputs_matrix,\n",
    "                            outputs,\n",
    "                            'cls')\n",
    "\n",
    "    pred_RRF = Online_RRF.online_learning()\n",
    "\n",
    "    #print(type(x_train_s))\n",
    "    "
   ]
  },
  {
   "cell_type": "code",
   "execution_count": null,
   "metadata": {},
   "outputs": [],
   "source": []
  }
 ],
 "metadata": {
  "kernelspec": {
   "display_name": "Python 3",
   "language": "python",
   "name": "python3"
  },
  "language_info": {
   "codemirror_mode": {
    "name": "ipython",
    "version": 3
   },
   "file_extension": ".py",
   "mimetype": "text/x-python",
   "name": "python",
   "nbconvert_exporter": "python",
   "pygments_lexer": "ipython3",
   "version": "3.6.8"
  }
 },
 "nbformat": 4,
 "nbformat_minor": 2
}
