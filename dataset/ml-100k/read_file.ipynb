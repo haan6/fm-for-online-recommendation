{
 "cells": [
  {
   "cell_type": "code",
   "execution_count": 1,
   "metadata": {},
   "outputs": [
    {
     "name": "stderr",
     "output_type": "stream",
     "text": [
      "/usr/lib/python3/dist-packages/matplotlib/__init__.py:1352: UserWarning:  This call to matplotlib.use() has no effect\n",
      "because the backend has already been chosen;\n",
      "matplotlib.use() must be called *before* pylab, matplotlib.pyplot,\n",
      "or matplotlib.backends is imported for the first time.\n",
      "\n",
      "  warnings.warn(_use_error_msg)\n"
     ]
    }
   ],
   "source": [
    "import numpy as np\n",
    "from scipy.sparse import coo_matrix\n",
    "import scipy.io as sio\n",
    "import matplotlib.pyplot as plt\n",
    "from datetime import timezone, timedelta, datetime\n",
    "\n",
    "import matplotlib\n",
    "matplotlib.use('Agg') # Must be before importing matplotlib.pyplot or pylab!\n",
    "import matplotlib.pyplot as plt"
   ]
  },
  {
   "cell_type": "code",
   "execution_count": 2,
   "metadata": {},
   "outputs": [],
   "source": [
    "from scipy.sparse import lil_matrix\n",
    "import csv\n",
    "\n",
    "def loadDataset(filename, lines, columns):\n",
    "    # Features are one-hot encoded in a sparse matrix\n",
    "    X = lil_matrix((lines, columns)).astype('float32')\n",
    "    # Labels are stored in a vector\n",
    "    Y = []\n",
    "    Y2 = []\n",
    "    date_time = []\n",
    "    line=0\n",
    "    with open(filename,'r') as f:\n",
    "        samples=csv.reader(f,delimiter='\\t')\n",
    "        for userId,movieId,rating,timestamp in samples:\n",
    "            X[line,int(userId)-1] = 1\n",
    "            X[line,int(nbUsers)+int(movieId)-1] = 1\n",
    "            if int(rating) >= 3:\n",
    "                Y.append(1)\n",
    "            else:\n",
    "                Y.append(0)\n",
    "            line=line+1\n",
    "            date_time.append(timestamp)\n",
    "            Y2.append(rating)\n",
    "    \n",
    "    date_time = np.array(date_time).astype('float32')\n",
    "    Y=np.array(Y).astype('float32')\n",
    "    return X,Y,Y2,date_time"
   ]
  },
  {
   "cell_type": "code",
   "execution_count": 3,
   "metadata": {},
   "outputs": [],
   "source": [
    "nbUsers=943\n",
    "nbMovies=1682\n",
    "nbFeatures=nbUsers+nbMovies\n",
    "nbRatingsTrain=90570\n",
    "nbRatingsTest=9430"
   ]
  },
  {
   "cell_type": "code",
   "execution_count": 4,
   "metadata": {},
   "outputs": [],
   "source": [
    "# filename1,filename2 = './ua.base','./ua.test'\n",
    "# save_dir = './movielens_ua.mat'\n",
    "# fig_dir = './ua_traintest'\n",
    "\n",
    "filename1,filename2 = './ub.base','./ub.test'\n",
    "save_dir = './movielens_ub.mat'\n",
    "fig_dir = './ub_traintest'"
   ]
  },
  {
   "cell_type": "code",
   "execution_count": 5,
   "metadata": {},
   "outputs": [],
   "source": [
    "X_train, Y_train, rate_train, timestamp_train = loadDataset(filename1, nbRatingsTrain, nbFeatures)\n",
    "X_test, Y_test, rate_test, timestamp_test = loadDataset(filename2, nbRatingsTest, nbFeatures)"
   ]
  },
  {
   "cell_type": "code",
   "execution_count": 6,
   "metadata": {},
   "outputs": [],
   "source": [
    "# make up some data\n",
    "x = np.array([ datetime.utcfromtimestamp(current_utc) for current_utc in timestamp_train])\n",
    "y = np.array([ float(i) for i in rate_train])\n",
    "\n",
    "sorted_x = x[x.argsort()]\n",
    "sorted_rate = y[x.argsort()]\n",
    "sorted_ytrain = Y_train[x.argsort()]\n",
    "sorted_xtrain = X_train[x.argsort(),:]\n",
    "sorted_timestamp = timestamp_train[x.argsort()]\n"
   ]
  },
  {
   "cell_type": "code",
   "execution_count": null,
   "metadata": {},
   "outputs": [],
   "source": []
  },
  {
   "cell_type": "code",
   "execution_count": 10,
   "metadata": {},
   "outputs": [
    {
     "name": "stderr",
     "output_type": "stream",
     "text": [
      "/usr/local/lib/python3.5/dist-packages/scipy/sparse/sputils.py:114: UserWarning: object dtype is not supported by sparse matrices\n",
      "  warnings.warn(\"object dtype is not supported by sparse matrices\")\n"
     ]
    },
    {
     "data": {
      "text/plain": [
       "<1x2625 sparse matrix of type '<class 'numpy.object_'>'\n",
       "\twith 2 stored elements in LInked List format>"
      ]
     },
     "execution_count": 10,
     "metadata": {},
     "output_type": "execute_result"
    }
   ],
   "source": [
    "sorted_xtrain[0].dot(np.ones_like(sorted_xtrain[0]))"
   ]
  },
  {
   "cell_type": "code",
   "execution_count": null,
   "metadata": {},
   "outputs": [],
   "source": []
  },
  {
   "cell_type": "code",
   "execution_count": null,
   "metadata": {},
   "outputs": [],
   "source": []
  },
  {
   "cell_type": "code",
   "execution_count": null,
   "metadata": {},
   "outputs": [],
   "source": []
  },
  {
   "cell_type": "code",
   "execution_count": null,
   "metadata": {},
   "outputs": [],
   "source": []
  },
  {
   "cell_type": "code",
   "execution_count": null,
   "metadata": {},
   "outputs": [],
   "source": [
    "# make up some data\n",
    "x2 = np.array([ datetime.utcfromtimestamp(current_utc) for current_utc in timestamp_test])\n",
    "y2 = np.array([ float(i) for i in rate_test])\n",
    "\n",
    "sorted_x2 = x2[x2.argsort()]\n",
    "sorted_rate2 = y2[x2.argsort()]\n",
    "sorted_ytest = Y_test[x2.argsort()]\n",
    "sorted_xtest = X_test[x2.argsort(),:]\n",
    "sorted_timestamp2 = timestamp_test[x2.argsort()]\n"
   ]
  },
  {
   "cell_type": "code",
   "execution_count": null,
   "metadata": {},
   "outputs": [],
   "source": [
    "file_content = { 'xtrain' : sorted_xtrain, 'ytrain' : sorted_ytrain, 'timestamp' : sorted_timestamp  , 'rate' : sorted_rate, \\\n",
    "                 'xtest' : sorted_xtest, 'ytest' : sorted_ytest, 'timestamp2' : sorted_timestamp2  , 'rate2' : sorted_rate2}\n",
    "sio.savemat(save_dir,file_content)"
   ]
  },
  {
   "cell_type": "code",
   "execution_count": null,
   "metadata": {},
   "outputs": [],
   "source": [
    "time_tic = 5000\n",
    "\n",
    "fig = plt.figure(figsize = (10,3))\n",
    "ax = fig.add_subplot(1,2,1)\n",
    "plt.plot(sorted_x[:time_tic ],sorted_rate[:time_tic ],'.')\n",
    "plt.gcf().autofmt_xdate()\n",
    "plt.xlabel('Time')\n",
    "plt.ylabel('rate')\n",
    "\n",
    "plt.title(filename1 + '/train')\n",
    "\n",
    "\n",
    "ax2 = fig.add_subplot(1,2,2)\n",
    "plt.plot(sorted_x2[:time_tic ],sorted_rate2[:time_tic ],'.')\n",
    "plt.xlabel('Time')\n",
    "plt.ylabel('rate')\n",
    "plt.gcf().autofmt_xdate()\n",
    "plt.title(filename2 + '/test')\n",
    "\n",
    "plt.savefig(fig_dir+str(time_tic)+'.png')\n",
    "plt.show()\n"
   ]
  },
  {
   "cell_type": "code",
   "execution_count": null,
   "metadata": {},
   "outputs": [],
   "source": [
    "# fig = plt.figure(figsize = (10,3))\n",
    "# ax = fig.add_subplot(1,2,1)\n",
    "# plt.plot(sorted_x,sorted_rate,'.')\n",
    "# plt.gcf().autofmt_xdate()\n",
    "# plt.xlabel('Time')\n",
    "# plt.ylabel('rate')\n",
    "\n",
    "# plt.title(filename1 + '/train')\n",
    "\n",
    "\n",
    "# ax2 = fig.add_subplot(1,2,2)\n",
    "# plt.plot(sorted_x2,sorted_rate2,'.')\n",
    "# plt.xlabel('Time')\n",
    "# plt.ylabel('rate')\n",
    "# plt.gcf().autofmt_xdate()\n",
    "# plt.title(filename2 + '/test')\n",
    "\n",
    "# plt.savefig(fig_dir)\n",
    "# plt.show()\n"
   ]
  },
  {
   "cell_type": "code",
   "execution_count": null,
   "metadata": {},
   "outputs": [],
   "source": [
    "#X_train.toarray()\n",
    "plt.figure(figsize = (10,3))\n",
    "plt.subplot(1,2,1)\n",
    "plt.plot(Y_train,'r.')\n",
    "plt.subplot(1,2,2)\n",
    "plt.plot(rate_train,'r.')\n",
    "\n",
    "plt.show()\n",
    "#np.shape()"
   ]
  },
  {
   "cell_type": "code",
   "execution_count": null,
   "metadata": {},
   "outputs": [],
   "source": []
  }
 ],
 "metadata": {
  "kernelspec": {
   "display_name": "Python 3",
   "language": "python",
   "name": "python3"
  },
  "language_info": {
   "codemirror_mode": {
    "name": "ipython",
    "version": 3
   },
   "file_extension": ".py",
   "mimetype": "text/x-python",
   "name": "python",
   "nbconvert_exporter": "python",
   "pygments_lexer": "ipython3",
   "version": "3.5.2"
  }
 },
 "nbformat": 4,
 "nbformat_minor": 2
}
